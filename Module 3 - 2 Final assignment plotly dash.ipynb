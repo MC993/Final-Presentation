{
  "metadata": {
    "kernelspec": {
      "name": "python",
      "display_name": "Python (Pyodide)",
      "language": "python"
    },
    "language_info": {
      "codemirror_mode": {
        "name": "python",
        "version": 3
      },
      "file_extension": ".py",
      "mimetype": "text/x-python",
      "name": "python",
      "nbconvert_exporter": "python",
      "pygments_lexer": "ipython3",
      "version": "3.8"
    }
  },
  "nbformat_minor": 4,
  "nbformat": 4,
  "cells": [
    {
      "cell_type": "code",
      "source": "# Import required libraries\nimport pandas as pd\nimport dash\nimport dash_html_components as html\nimport dash_core_components as dcc\nfrom dash.dependencies import Input, Output\nimport plotly.express as px",
      "metadata": {
        "trusted": true
      },
      "outputs": [],
      "execution_count": null
    },
    {
      "cell_type": "code",
      "source": "# Read the airline data into pandas dataframe\nspacex_df = pd.read_csv(\"spacex_launch_dash.csv\")\nmax_payload = spacex_df['Payload Mass (kg)'].max()\nmin_payload = spacex_df['Payload Mass (kg)'].min()\n# Create a dash application\napp = dash.Dash(__name__)\n# Create an app layout\napp.layout = html.Div(children=[html.H1('SpaceX Launch Records Dashboard',\n                                        style={'textAlign': 'center', 'color': '#503D36',\n                                               'font-size': 40}),\n                                # TASK 1: Add a dropdown list to enable Launch Site selection\n                               dcc.Dropdown(\n        id='site-dropdown',\n        options=[\n            {'label': 'All Sites', 'value': 'ALL'},\n            {'label': 'CCAFS LC-40', 'value': 'CCAFS LC-40'},\n            {'label': 'VAFB SLC-4E', 'value': 'VAFB SLC-4E'},\n            {'label': 'KSC LC-39A', 'value': 'KSC LC-39A'},\n            {'label': 'CCAFS SLC-40', 'value': 'CCAFS SLC-40'}\n        ],\n        value='ALL',  # Default to 'ALL' to display all sites initially\n        placeholder=\"Select a Launch Site here\",\n        searchable=True\n    ),\n    html.Br(),\n                                # TASK 2: Add a pie chart to show the total successful launches count for all sites\n                                # If a specific launch site was selected, show the Success vs. Failed counts for the site\n                              html.Div(dcc.Graph(id='success-pie-chart')),\n    html.Br(),\n                                # TASK 3: Add a slider to select payload range\n                                html.P(\"Payload range (Kg):\"),\n    dcc.RangeSlider(\n        id='payload-slider',\n        min=min_payload,\n        max=max_payload,\n        step=1000,\n        marks={i: f'{i}' for i in range(int(min_payload), int(max_payload), 1000)},\n        value=[min_payload, max_payload]\n    ),\n                                # TASK 4: Add a scatter chart to show the correlation between payload and launch success\n                                html.Div(dcc.Graph(id='success-payload-scatter-chart')),\n])\n# TASK 2:\n@app.callback(\n    Output('success-pie-chart', 'figure'),\n    Input('site-dropdown', 'value')\n)\ndef update_pie_chart(selected_site):\n    if selected_site == 'ALL':\n        site_data = spacex_df\n    else:\n        site_data = spacex_df[spacex_df['Launch Site'] == selected_site]\n    success_count = site_data['class'].sum()\n    failure_count = len(site_data) - success_count\n    fig = px.pie(names=['Success', 'Failure'], values=[success_count, failure_count],\n                 title=f\"Launch Success vs Failure for {selected_site}\" if selected_site != 'ALL' else \"Launch Success vs Failure for All Sites\")\n    return fig\n# TASK 4:\n@app.callback(\n    Output('success-payload-scatter-chart', 'figure'),\n    [Input('site-dropdown', 'value'),\n     Input('payload-slider', 'value')]\n)\ndef update_scatter_chart(selected_site, payload_range):\n    min_payload, max_payload = payload_range\n    filtered_data = spacex_df[(spacex_df['Payload Mass (kg)'] >= min_payload) & (spacex_df['Payload Mass (kg)'] <= max_payload)]\n    if selected_site != 'ALL':\n        filtered_data = filtered_data[filtered_data['Launch Site'] == selected_site]\n    fig = px.scatter(filtered_data, x='Payload Mass (kg)', y='class', color='class', title=f\"Payload vs Success for {selected_site}\" if selected_site != 'ALL' else \"Payload vs Success for All Sites\")\n    return fig\n# Run the app\nif __name__ == '__main__':\n    app.run_server(debug=True, port= 8050)",
      "metadata": {
        "trusted": true
      },
      "outputs": [],
      "execution_count": null
    }
  ]
}